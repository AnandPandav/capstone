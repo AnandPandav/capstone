{
 "cells": [
  {
   "cell_type": "code",
   "execution_count": 3,
   "metadata": {
    "scrolled": false
   },
   "outputs": [
    {
     "name": "stderr",
     "output_type": "stream",
     "text": [
      "100%|██████████| 66176/66176 [04:51<00:00, 226.97it/s]\n"
     ]
    }
   ],
   "source": [
    "#To generate specrogram, input audio file format need to be \"wav\".\n",
    "#Convert mp3 files to wav format using pydub package.\n",
    "\n",
    "#from pydub import AudioSegment\n",
    "import os\n",
    "import zipfile\n",
    "from pathlib import Path\n",
    "from tqdm import tqdm\n",
    "import subprocess\n",
    "\n",
    "\n",
    "trainingdata_archive = '/home/ubuntu/src/capstone/datafiles/trainingdata.zip'\n",
    "trainingdata_destination = '/home/ubuntu/src/capstone/datafiles/trainingdata/mp3files'\n",
    "trainingdata_wav = '/home/ubuntu/src/capstone/datafiles/trainingdata/wavfiles'\n",
    "\n",
    "#Process training data directory\n",
    "#check trainingdata archive exists and unzip it to testingdata direcotry\n",
    "os.chdir('/home/ubuntu/src/capstone/datafiles')\n",
    "training_archive = Path(trainingdata_archive)\n",
    "if training_archive.is_file() and not os.path.exists(trainingdata_destination):\n",
    "    training_zip = zipfile.ZipFile(trainingdata_archive, 'r')\n",
    "    os.makedirs(trainingdata_destination)\n",
    "    training_zip.extractall(trainingdata_destination)\n",
    "    training_zip.close()\n",
    "\n",
    "   \n",
    "#re-do the extracted mp3 files directory name as \"mp3files\" for further processing. (Original name had a space in the name)\n",
    "#convert mp3 files to wav files using sox.\n",
    "\n",
    "if os.path.exists(trainingdata_destination):\n",
    "    os.chdir(trainingdata_destination)\n",
    "    if not os.path.exists(trainingdata_wav):\n",
    "        os.makedirs(trainingdata_wav)\n",
    "    for file in tqdm(os.listdir('.')):\n",
    "        if file.endswith('.mp3'):\n",
    "            wavfile,extension = os.path.splitext(file)\n",
    "            abs_path = os.path.abspath(file)\n",
    "            #print (abs_path)\n",
    "            #print(\"file name: \", wavfile, extension)\n",
    "            if not os.path.isfile(trainingdata_wav + '/' + wavfile + '.wav'):\n",
    "                subprocess.check_call(['sox', '-G', abs_path, '-e', 'signed-integer', '-r', '16k', '-c', '1', '/home/ubuntu/src/capstone/datafiles/trainingdata/wavfiles/' + wavfile + '.wav'])\n",
    "\n",
    " "
   ]
  },
  {
   "cell_type": "code",
   "execution_count": 3,
   "metadata": {},
   "outputs": [
    {
     "name": "stderr",
     "output_type": "stream",
     "text": [
      "0it [00:00, ?it/s]\n"
     ]
    }
   ],
   "source": [
    "import os\n",
    "import zipfile\n",
    "from pathlib import Path\n",
    "from tqdm import tqdm\n",
    "import subprocess\n",
    "\n",
    "testingdata_archive = '/home/ubuntu/src/capstone/datafiles/testingdata/testingdata.zip'\n",
    "testingdata_destination = '/home/ubuntu/src/capstone/datafiles/testingdata/mp3files'\n",
    "testingdata_wav = '/home/ubuntu/src/capstone/datafiles/testingdata/wavfiles'\n",
    "\n",
    "#Testing data\n",
    "#Process testing data directory\n",
    "#check testingdata archive exists and unzip it to testingdata direcotry\n",
    "os.chdir('/home/ubuntu/src/capstone/datafiles')\n",
    "testing_archive = Path(testingdata_archive)\n",
    "if testing_archive.is_file() and not os.path.exists(testingdata_destination):\n",
    "    testing_zip = zipfile.ZipFile(testingdata_archive, 'r')\n",
    "    os.makedirs(testingdata_destination)\n",
    "    testing_zip.extractall(testingdata_destination)\n",
    "    testing_zip.close()\n",
    "\n",
    "   \n",
    "#re-do the extracted mp3 files directory name as \"mp3files\" for further processing. (Original name had a space in the name)\n",
    "#convert mp3 files to wav files using sox.\n",
    "\n",
    "if os.path.exists(testingdata_destination):\n",
    "    os.chdir(testingdata_destination)\n",
    "    if not os.path.exists(testingdata_wav):\n",
    "        os.makedirs(testingdata_wav)\n",
    "    for file in tqdm(os.listdir('.')):\n",
    "        if file.endswith('.mp3'):\n",
    "            wavfile,extension = os.path.splitext(file)\n",
    "            abs_path = os.path.abspath(file)\n",
    "            #print (abs_path)\n",
    "            #print(\"file name: \", wavfile, extension)\n",
    "            if not os.path.isfile(testingdata_wav + '/' + wavfile + '.wav'):\n",
    "                subprocess.check_call(['sox', '-G', abs_path, '-e', 'signed-integer', '-r', '16k', '-c', '1', '/home/ubuntu/src/capstone/datafiles/trainingdata/wavfiles/' + wavfile + '.wav'])\n"
   ]
  },
  {
   "cell_type": "code",
   "execution_count": null,
   "metadata": {},
   "outputs": [],
   "source": []
  }
 ],
 "metadata": {
  "kernelspec": {
   "display_name": "Python 3",
   "language": "python",
   "name": "python3"
  },
  "language_info": {
   "codemirror_mode": {
    "name": "ipython",
    "version": 3
   },
   "file_extension": ".py",
   "mimetype": "text/x-python",
   "name": "python",
   "nbconvert_exporter": "python",
   "pygments_lexer": "ipython3",
   "version": "3.5.2"
  }
 },
 "nbformat": 4,
 "nbformat_minor": 2
}
