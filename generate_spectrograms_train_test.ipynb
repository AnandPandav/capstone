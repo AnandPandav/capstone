{
 "cells": [
  {
   "cell_type": "code",
   "execution_count": 1,
   "metadata": {
    "collapsed": false
   },
   "outputs": [
    {
     "name": "stderr",
     "output_type": "stream",
     "text": [
      "100%|██████████| 66176/66176 [00:00<00:00, 202064.06it/s]\n",
      "100%|██████████| 12318/12318 [36:24<00:00,  5.64it/s]  \n"
     ]
    }
   ],
   "source": [
    "%matplotlib inline\n",
    "import os\n",
    "import matplotlib\n",
    "import matplotlib.pyplot as plt\n",
    "#matplotlib.use('Agg') # No pictures displayed \n",
    "#import matplotlib.pyplot as plt\n",
    "\n",
    "#import pylab\n",
    "import librosa\n",
    "import librosa.display\n",
    "import numpy as np\n",
    "#import pylab\n",
    "from tqdm import tqdm\n",
    "from scipy.io import wavfile\n",
    "\n",
    "\n",
    "\n",
    "trainingdata_archive = '/home/ubuntu/src/capstone/datafiles/trainingdata.zip'\n",
    "trainingdata_destination = '/home/ubuntu/src/capstone/datafiles/trainingdata/mp3files'\n",
    "trainingdata_wav = '/home/ubuntu/src/capstone/datafiles/trainingdata/wavfiles'\n",
    "trainingdata_spectrograms = '/home/ubuntu/src/capstone/datafiles/trainingdata/training_spectrograms'\n",
    "\n",
    "testingdata_archive = '/home/ubuntu/src/capstone/datafiles/testingdata.zip'\n",
    "testingdata_destination = '/home/ubuntu/src/capstone/datafiles/testingdata'\n",
    "testingdata_wav = '/home/ubuntu/src/capstone/datafiles/testingdata/wavfiles'\n",
    "testingdata_spectrograms = '/home/ubuntu/src/capstone/datafiles/testingdata/testing_spectrograms'\n",
    "\n",
    "#Training spectrograms\n",
    "if os.path.exists(trainingdata_wav):\n",
    "    os.chdir(trainingdata_wav)\n",
    "    if not os.path.exists(trainingdata_spectrograms):\n",
    "        os.makedirs(trainingdata_spectrograms)\n",
    "    for file in tqdm(os.listdir('.')):\n",
    "        if file.endswith('.wav'):\n",
    "            #print('File name: ', file)\n",
    "            wavfilename, extension = os.path.splitext(file)\n",
    "            if not os.path.isfile(trainingdata_spectrograms + '/' + wavfilename + '.png'):\n",
    "                rate, data = wavfile.read(file)\n",
    "                save_path = trainingdata_spectrograms + '/' + wavfilename + '.png'\n",
    "                fig,ax = plt.subplots(1, figsize=(2,1))\n",
    "                fig.subplots_adjust(left=0,right=1,bottom=0,top=1)\n",
    "                ax.axis('off')\n",
    "                S = librosa.feature.melspectrogram(y=data, sr=rate)\n",
    "                ax.matshow(librosa.power_to_db(S, ref=np.max), interpolation='nearest', aspect='auto', cmap=plt.cm.afmhot, origin='lower')\n",
    "                fig.savefig(save_path, dpi=100, frameon='false',  cmap=plt.cm.afmhot, origin='lower')\n",
    "                #plt.show()\n",
    "                plt.cla()\n",
    "                plt.clf()\n",
    "                plt.close('all')\n",
    "\n",
    "#Testing spectrograms\n",
    "if os.path.exists(testingdata_wav):\n",
    "    os.chdir(testingdata_wav)\n",
    "if not os.path.exists(testingdata_spectrograms):\n",
    "    os.makedirs(testingdata_spectrograms)\n",
    "for file in tqdm(os.listdir('.')):\n",
    "    if file.endswith('.wav'):\n",
    "        #print('File name: ', file)\n",
    "        wavfilename, extension = os.path.splitext(file)\n",
    "        if not os.path.isfile(testingdata_spectrograms + '/' + wavfilename + '.png'):\n",
    "            rate, data = wavfile.read(file)\n",
    "            save_path = testingdata_spectrograms + '/' + wavfilename + '.png'\n",
    "            fig,ax = plt.subplots(1, figsize=(2,1))\n",
    "            fig.subplots_adjust(left=0,right=1,bottom=0,top=1)\n",
    "            ax.axis('off')\n",
    "            S = librosa.feature.melspectrogram(y=data, sr=rate)\n",
    "            ax.matshow(librosa.power_to_db(S, ref=np.max), interpolation='nearest', aspect='auto', cmap=plt.cm.afmhot, origin='lower')\n",
    "            fig.savefig(save_path, dpi=100, frameon='false',  cmap=plt.cm.afmhot, origin='lower')\n",
    "            #plt.show()\n",
    "            plt.cla()\n",
    "            plt.clf()\n",
    "            plt.close('all')\n"
   ]
  },
  {
   "cell_type": "code",
   "execution_count": null,
   "metadata": {
    "collapsed": true
   },
   "outputs": [],
   "source": []
  }
 ],
 "metadata": {
  "kernelspec": {
   "display_name": "Python 3",
   "language": "python",
   "name": "python3"
  },
  "language_info": {
   "codemirror_mode": {
    "name": "ipython",
    "version": 3
   },
   "file_extension": ".py",
   "mimetype": "text/x-python",
   "name": "python",
   "nbconvert_exporter": "python",
   "pygments_lexer": "ipython3",
   "version": "3.6.2"
  }
 },
 "nbformat": 4,
 "nbformat_minor": 2
}
